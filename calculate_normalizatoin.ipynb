{
 "cells": [
  {
   "cell_type": "code",
   "execution_count": 4,
   "metadata": {},
   "outputs": [
    {
     "name": "stdout",
     "output_type": "stream",
     "text": [
      "623819\n"
     ]
    }
   ],
   "source": [
    "import glob\n",
    "\n",
    "frames_dir = \"data/apas/rawframes\"\n",
    "\n",
    "all_frames = list(sorted(glob.glob(f'{frames_dir}/*/*img*')))\n",
    "print(len(all_frames))\n"
   ]
  },
  {
   "cell_type": "code",
   "execution_count": 12,
   "metadata": {},
   "outputs": [],
   "source": [
    "import numpy as np\n",
    "from tqdm import tqdm\n",
    "from PIL import Image\n",
    "def calculate_mean_std(frames):\n",
    "    mean_r = 0\n",
    "    mean_g = 0\n",
    "    mean_b = 0\n",
    "\n",
    "    for img in tqdm(frames):\n",
    "        img = Image.open(img)\n",
    "        img = np.asarray(img) # change PIL Image to numpy array\n",
    "        mean_b += np.mean(img[:, :, 0])\n",
    "        mean_g += np.mean(img[:, :, 1])\n",
    "        mean_r += np.mean(img[:, :, 2])\n",
    "\n",
    "    mean_b /= len(frames)\n",
    "    mean_g /= len(frames)\n",
    "    mean_r /= len(frames)\n",
    "\n",
    "    diff_r = 0\n",
    "    diff_g = 0\n",
    "    diff_b = 0\n",
    "\n",
    "    N = 0\n",
    "\n",
    "    for img in tqdm(frames):\n",
    "        img = Image.open(img)\n",
    "        img = np.asarray(img)\n",
    "\n",
    "        diff_b += np.sum(np.power(img[:, :, 0] - mean_b, 2))\n",
    "        diff_g += np.sum(np.power(img[:, :, 1] - mean_g, 2))\n",
    "        diff_r += np.sum(np.power(img[:, :, 2] - mean_r, 2))\n",
    "\n",
    "        N += np.prod(img[:, :, 0].shape)\n",
    "\n",
    "    std_b = np.sqrt(diff_b / N)\n",
    "    std_g = np.sqrt(diff_g / N)\n",
    "    std_r = np.sqrt(diff_r / N)\n",
    "\n",
    "    mean = (mean_b.item() / 255.0, mean_g.item() / 255.0, mean_r.item() / 255.0)\n",
    "    std = (std_b.item() / 255.0, std_g.item() / 255.0, std_r.item() / 255.0)\n",
    "    print(\"mean:\", mean)\n",
    "    print(\"std:\", std)\n",
    "    return mean, std"
   ]
  },
  {
   "cell_type": "code",
   "execution_count": 13,
   "metadata": {},
   "outputs": [
    {
     "name": "stderr",
     "output_type": "stream",
     "text": [
      "100%|██████████| 20794/20794 [11:07<00:00, 31.14it/s]\n",
      "100%|██████████| 20794/20794 [04:03<00:00, 85.27it/s]"
     ]
    },
    {
     "name": "stdout",
     "output_type": "stream",
     "text": [
      "mean: (0.564756060532973, 0.5173126411451615, 0.4835852416335061)\n",
      "std: (0.25374133091439843, 0.269759485716467, 0.2774464023306643)\n"
     ]
    },
    {
     "name": "stderr",
     "output_type": "stream",
     "text": [
      "\n"
     ]
    },
    {
     "data": {
      "text/plain": [
       "((0.564756060532973, 0.5173126411451615, 0.4835852416335061),\n",
       " (0.25374133091439843, 0.269759485716467, 0.2774464023306643))"
      ]
     },
     "execution_count": 13,
     "metadata": {},
     "output_type": "execute_result"
    }
   ],
   "source": [
    "calculate_mean_std(all_frames[::30])"
   ]
  },
  {
   "cell_type": "code",
   "execution_count": 17,
   "metadata": {},
   "outputs": [
    {
     "data": {
      "text/plain": [
       "([144.01279543590812, 131.91472349201618, 123.31423661654405],\n",
       " [64.7040393831716, 68.7886688576991, 70.7488325943194])"
      ]
     },
     "execution_count": 17,
     "metadata": {},
     "output_type": "execute_result"
    }
   ],
   "source": [
    "mean, std = ((0.564756060532973, 0.5173126411451615, 0.4835852416335061),\n",
    " (0.25374133091439843, 0.269759485716467, 0.2774464023306643))\n",
    "mean, std = [255 * x for x in mean], [255 * x for x in std]\n",
    "mean, std"
   ]
  }
 ],
 "metadata": {
  "interpreter": {
   "hash": "b0f542bf647f845507506e6349d2db50d87884b293dea91a6f428adf18e59696"
  },
  "kernelspec": {
   "display_name": "Python 3.7.11 ('open-mmlab2')",
   "language": "python",
   "name": "python3"
  },
  "language_info": {
   "codemirror_mode": {
    "name": "ipython",
    "version": 3
   },
   "file_extension": ".py",
   "mimetype": "text/x-python",
   "name": "python",
   "nbconvert_exporter": "python",
   "pygments_lexer": "ipython3",
   "version": "3.7.11"
  },
  "orig_nbformat": 4
 },
 "nbformat": 4,
 "nbformat_minor": 2
}
